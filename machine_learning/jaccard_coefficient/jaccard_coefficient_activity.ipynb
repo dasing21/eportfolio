{
 "cells": [
  {
   "cell_type": "code",
   "execution_count": 4,
   "id": "1913abe7",
   "metadata": {},
   "outputs": [
    {
     "name": "stdout",
     "output_type": "stream",
     "text": [
      "Jaccard(Jack, Mary): 0.429\n",
      "Jaccard(Jack, Jim): 0.714\n",
      "Jaccard(Jim, Mary): 0.143\n"
     ]
    }
   ],
   "source": [
    "# Define the data for each person (excluding the Name column)\n",
    "jack = ['M', 'Y', 'N', 'P', 'N', 'N', 'A']\n",
    "mary = ['F', 'Y', 'N', 'P', 'A', 'P', 'N']\n",
    "jim  = ['M', 'Y', 'P', 'N', 'N', 'N', 'A']\n",
    "\n",
    "# Function to calculate Jaccard coefficient between two lists\n",
    "def jaccard_coefficient(list1, list2):\n",
    "    matches = sum(1 for a, b in zip(list1, list2) if a == b)\n",
    "    total = len(list1)\n",
    "    return matches / total\n",
    "\n",
    "# Calculate Jaccard coefficients\n",
    "jack_mary = jaccard_coefficient(jack, mary)\n",
    "jack_jim = jaccard_coefficient(jack, jim)\n",
    "jim_mary = jaccard_coefficient(jim, mary)\n",
    "\n",
    "# Display results\n",
    "print(f\"Jaccard(Jack, Mary): {jack_mary:.3f}\")\n",
    "print(f\"Jaccard(Jack, Jim): {jack_jim:.3f}\")\n",
    "print(f\"Jaccard(Jim, Mary): {jim_mary:.3f}\")"
   ]
  }
 ],
 "metadata": {
  "kernelspec": {
   "display_name": "base",
   "language": "python",
   "name": "python3"
  },
  "language_info": {
   "codemirror_mode": {
    "name": "ipython",
    "version": 3
   },
   "file_extension": ".py",
   "mimetype": "text/x-python",
   "name": "python",
   "nbconvert_exporter": "python",
   "pygments_lexer": "ipython3",
   "version": "3.11.7"
  }
 },
 "nbformat": 4,
 "nbformat_minor": 5
}
